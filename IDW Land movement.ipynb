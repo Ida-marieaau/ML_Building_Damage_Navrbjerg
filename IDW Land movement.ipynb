{
 "cells": [
  {
   "cell_type": "code",
   "execution_count": null,
   "id": "a0ad13ab",
   "metadata": {},
   "outputs": [],
   "source": [
    "#Script that performs and saves the land movement IDW interpolation (25m grid)\n",
    "\n",
    "import geopandas as gpd\n",
    "import numpy as np\n",
    "import rasterio\n",
    "from rasterio.transform import from_origin\n",
    "from scipy.spatial import KDTree\n",
    "from pyproj import CRS\n",
    "\n",
    "# Load the point and boundary data\n",
    "point_data = gpd.read_file('D:\\\\FOLDER FROM THESIS\\\\THESIS\\\\Data\\\\Land movement\\\\Vertikal SDFE 80m gitter DK 2020_25832.shp')\n",
    "boundary = gpd.read_file('D:\\\\FOLDER FROM THESIS\\\\THESIS\\\\Data\\\\VektorDanmark\\\\Danmark.shp')\n",
    "\n",
    "# Validate CRS\n",
    "assert point_data.crs == 'EPSG:25832'\n",
    "assert boundary.crs == 'EPSG:25832'\n",
    "\n",
    "# Extract coordinates and values\n",
    "coordinates = point_data.geometry.apply(lambda geom: (geom.x, geom.y)).tolist()\n",
    "values = point_data['vel_vert'].values\n",
    "\n",
    "# KDTree for spatial search\n",
    "tree = KDTree(coordinates)\n",
    "\n",
    "# Define grid based on boundary\n",
    "minx, miny, maxx, maxy = boundary.geometry.total_bounds\n",
    "grid_res = 25  # Grid resolution\n",
    "grid_x, grid_y = np.mgrid[minx:maxx:grid_res, miny:maxy:grid_res]\n",
    "\n",
    "# IDW Interpolation\n",
    "n_neighbors = 3\n",
    "distances, indices = tree.query(np.c_[grid_x.ravel(), grid_y.ravel()], k=n_neighbors)\n",
    "weights = 1.0 / np.maximum(distances, 1e-10)**2  # Avoid division by zero\n",
    "interpolated_values = np.sum(weights * values[indices], axis=1) / np.sum(weights, axis=1)\n",
    "\n",
    "#reshaoe to match grid x and y\n",
    "prediction = interpolated_values.reshape(grid_x.shape)\n",
    "\n",
    "# Rotate the prediction array 90 degrees counterclockwise\n",
    "rotated_prediction = np.rot90(prediction, k=1)\n",
    "\n",
    "# Save as rotated raster\n",
    "output_path = 'D:\\\\FOLDER FROM THESIS\\\\THESIS\\\\Data\\\\Land movement\\\\Interpolations\\\\IDW_interpolation_25m.tif'\n",
    "with rasterio.open(output_path, 'w', driver='GTiff',\n",
    "                   height=rotated_prediction.shape[0], width=rotated_prediction.shape[1], count=1,\n",
    "                   dtype=rotated_prediction.dtype, crs=CRS.from_epsg(25832).to_wkt(),\n",
    "                   transform=from_origin(minx, maxy, grid_res, grid_res)) as dst:\n",
    "    dst.write(rotated_prediction[np.newaxis, ...])"
   ]
  }
 ],
 "metadata": {
  "kernelspec": {
   "display_name": "Python 3 (ipykernel)",
   "language": "python",
   "name": "python3"
  },
  "language_info": {
   "codemirror_mode": {
    "name": "ipython",
    "version": 3
   },
   "file_extension": ".py",
   "mimetype": "text/x-python",
   "name": "python",
   "nbconvert_exporter": "python",
   "pygments_lexer": "ipython3",
   "version": "3.11.4"
  }
 },
 "nbformat": 4,
 "nbformat_minor": 5
}
