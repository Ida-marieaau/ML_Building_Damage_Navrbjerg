{
 "cells": [
  {
   "cell_type": "code",
   "execution_count": null,
   "id": "cd9835f1",
   "metadata": {},
   "outputs": [],
   "source": [
    "import geopandas as gpd\n",
    "import rasterio\n",
    "from rasterio.transform import from_origin\n",
    "import numpy as np\n",
    "from scipy.spatial import cKDTree\n",
    "\n",
    "# Load the coastline shapefile\n",
    "coastline = gpd.read_file(\"D:/FOLDER FROM THESIS/THESIS/Data/VektorDanmark/Coast_all.shp\")\n",
    "\n",
    "# Define raster resolution\n",
    "resolution = 100  # meters\n",
    "\n",
    "# Define the raster extent (bounds of the coastline shapefile)\n",
    "bounds = coastline.total_bounds  # (minx, miny, maxx, maxy)\n",
    "width = int((bounds[2] - bounds[0]) / resolution)\n",
    "height = int((bounds[3] - bounds[1]) / resolution)\n",
    "\n",
    "# Create an empty raster array\n",
    "distance_raster = np.zeros((height, width), dtype=rasterio.float32)\n",
    "\n",
    "# Extract coordinates from line geometries\n",
    "coords = np.vstack([np.array(line.xy).T for line in coastline.geometry if line is not None])\n",
    "tree = cKDTree(coords)\n",
    "\n",
    "# Calculate distances\n",
    "for j in range(height):\n",
    "    for i in range(width):\n",
    "        # Convert raster pixel to geographic coordinates\n",
    "        x = bounds[0] + i * resolution + resolution / 2\n",
    "        y = bounds[3] - j * resolution - resolution / 2\n",
    "\n",
    "        # Find nearest coastline point and calculate distance\n",
    "        dist, _ = tree.query([x, y])\n",
    "        distance_raster[j, i] = dist\n",
    "\n",
    "# Save the raster\n",
    "transform = from_origin(bounds[0], bounds[3], resolution, resolution)\n",
    "with rasterio.open(\n",
    "    'D:/FOLDER FROM THESIS/THESIS/Processed data/Distance/coast_distance.tif',\n",
    "    'w',\n",
    "    driver='GTiff',\n",
    "    height=height,\n",
    "    width=width,\n",
    "    count=1,\n",
    "    dtype=distance_raster.dtype,\n",
    "    crs=coastline.crs,\n",
    "    transform=transform,\n",
    ") as dst:\n",
    "    dst.write(distance_raster, 1)\n",
    "\n",
    "print(\"Raster of distance to coast has been saved.\")"
   ]
  }
 ],
 "metadata": {
  "kernelspec": {
   "display_name": "Python 3 (ipykernel)",
   "language": "python",
   "name": "python3"
  },
  "language_info": {
   "codemirror_mode": {
    "name": "ipython",
    "version": 3
   },
   "file_extension": ".py",
   "mimetype": "text/x-python",
   "name": "python",
   "nbconvert_exporter": "python",
   "pygments_lexer": "ipython3",
   "version": "3.11.4"
  }
 },
 "nbformat": 4,
 "nbformat_minor": 5
}
